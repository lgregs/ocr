{
 "cells": [
  {
   "cell_type": "markdown",
   "id": "5390e171",
   "metadata": {},
   "source": [
    "# Extração de Texto em Imagens"
   ]
  },
  {
   "cell_type": "markdown",
   "id": "e435e0d4",
   "metadata": {},
   "source": [
    "* Neste Caderno é feita a conversão de arquivos PDF baseados em imagens para .png, arquivos escaneados e posteriormente salvos em formato de pdf não possuem texto alocado no conteúdo do PDF para ser extraido com um framework simples de PDF, logo, é necessária a conversão desses arquivos para um formato de imagem e em seguida é utilizado uma lib de detecção de texto em imagem."
   ]
  },
  {
   "cell_type": "markdown",
   "id": "d22bbbe9",
   "metadata": {},
   "source": [
    "#### Libs Utilizadas"
   ]
  },
  {
   "cell_type": "code",
   "execution_count": 1,
   "id": "94b38cc1",
   "metadata": {},
   "outputs": [],
   "source": [
    "!pip install -q easyocr"
   ]
  },
  {
   "cell_type": "code",
   "execution_count": 2,
   "id": "3feb953b",
   "metadata": {},
   "outputs": [],
   "source": [
    "!pip install -q opencv-python"
   ]
  },
  {
   "cell_type": "code",
   "execution_count": 3,
   "id": "b1d61809",
   "metadata": {},
   "outputs": [],
   "source": [
    "!pip install -q pymupdf"
   ]
  },
  {
   "cell_type": "code",
   "execution_count": 4,
   "id": "7414d6b6",
   "metadata": {},
   "outputs": [],
   "source": [
    "# Libs\n",
    "import os # SO organização de diretorios e salvamento de arquivos.\n",
    "import re # regex para limpeza do texto\n",
    "import cv2 # imagem\n",
    "import easyocr # imagem\n",
    "import numpy as np\n",
    "import pymupdf# conversão de formato de arquivos."
   ]
  },
  {
   "cell_type": "markdown",
   "id": "f58fce41",
   "metadata": {},
   "source": [
    "### "
   ]
  },
  {
   "cell_type": "code",
   "execution_count": 5,
   "id": "54b21144",
   "metadata": {},
   "outputs": [
    {
     "name": "stderr",
     "output_type": "stream",
     "text": [
      "Using CPU. Note: This module is much faster with a GPU.\n"
     ]
    },
    {
     "name": "stdout",
     "output_type": "stream",
     "text": [
      "Convertendo PDF em imagens...\n",
      "Página 1 salva como C:/Users/Lucas Silva/Documents/leitura/aler\\paginaTeste_1.png\n",
      "\n",
      "Extraindo texto das imagens...\n",
      "Imagem processada salva em: C:/Users/Lucas Silva/Documents/leitura/aler\\processed_images\\paginaTeste_1.png\n",
      "\n",
      "Texto extraído de todas as páginas:\n",
      "Republic of the Philippines\n",
      "(Formerly Ramon Magsaysay Technological University )\n",
      "Iba Zambales\n",
      "TellFax No:: (047) 811-1683\n",
      "PURCHASE ORDER\n",
      "Supplier: PHILCOPY CORPORATION\n",
      "Purchase Order No:: 2024-02-017\n",
      "Address: Rizal St , Makati\n",
      "Date: February 19,2024\n",
      "Mode of Procurement: Direct Contracting\n",
      "TIN Number: 000-169-318-000\n",
      "Gentlemen:\n",
      "Please furnish this Office the following articles subject to the terms and condition contained herein:\n",
      "Purpose: \"Supply and Delivery of Office Supplies\"\n",
      "For Office ofthe Campus Registrar and Office ofthe University Admission and Registration Services Use;\n",
      "Place of Delivery: Supply Office-Engr T Faustino(Edgar R Pastores, MPA)\n",
      "Delivery Term: DAP\n",
      "Date of Delivery: March\n",
      "1 ,\n",
      "2024\n",
      "Payment Term: Full payment withiin 10\n",
      "after the delivery inspection_\n",
      "Item No.\n",
      "Stock /Property\n",
      "Unit\n",
      "Description\n",
      "Qty.\n",
      "Unit Cost\n",
      "Amount\n",
      "No:\n",
      "Toner Kyocera\n",
      "OS-TK-8349K\n",
      "pCS:\n",
      "TK-8349 black\n",
      "5\n",
      "8,895.00\n",
      "44,475.00\n",
      "2\n",
      "OS-TK-8349M\n",
      "pCS:\n",
      "TK-8349 magenta\n",
      "3\n",
      "16,055.00\n",
      "48,165.00\n",
      "3\n",
      "OS-TK-8349Y\n",
      "TK-8349\n",
      "3\n",
      "16,055.00\n",
      "48,165.00\n",
      "4\n",
      "OS-TK-8349C\n",
      "pcs:\n",
      "TK-8349 cyan\n",
      "3\n",
      "16,055.00\n",
      "48,165.00\n",
      "5\n",
      "OS-TK-7120\n",
      "pcs.\n",
      "TK-7120\n",
      "3\n",
      "9,375.00\n",
      "28,125.00\n",
      "MNOTHING FOLLOWS +\n",
      "TOTAL\n",
      "217.095.00\n",
      "Total:\n",
      "TWO HUNDRED SEVENTEEN THOUSAND AND NINETY-FIVE PESOS ONLY.\n",
      "Tn case of failure to make the full delivery within the time specified above, a penalty ofone-tenth (1/10)\n",
      "Jof one percent for every\n",
      "of delay shall be imposed on the undelivered item/s\n",
      "Conforme:\n",
      "truly vours,\n",
      "ROYN. VILLALOBOS, DPA:\n",
      "2ZFEB2024\n",
      "University President\n",
      "Date\n",
      "Fund Cluster: RAF\n",
      "ORS /BURS No::\n",
      "[Funds Available : 217,095.00\n",
      "Date ofthe ORS/BURS:\n",
      "Amount:\n",
      "ROBERTO\n",
      "BRIONES, JRCPA,\n",
      "Accountant IV\n",
      "Page 1 of 1 Purchase Order\n",
      "City\n",
      "days\n",
      "yellow\n",
      "pcs:\n",
      "day =\n",
      "Very\n",
      "\n",
      "\n"
     ]
    }
   ],
   "source": [
    "import os\n",
    "import fitz  # pymupdf\n",
    "import cv2\n",
    "import easyocr\n",
    "\n",
    "# Configurações\n",
    "threshold = 0.25  # Confiança mínima para o OCR\n",
    "reader = easyocr.Reader(['en'], gpu=False)  # Inicialização do leitor OCR\n",
    "\n",
    "def convert_pdf_to_images(pdf_path, output_dir, dpi=300):\n",
    "    \"\"\"Converte um PDF em uma série de imagens PNG.\"\"\"\n",
    "    pdf_document = pymupdf.open(pdf_path)\n",
    "    image_paths = []\n",
    "\n",
    "    for page_num in range(len(pdf_document)):\n",
    "        page = pdf_document[page_num]\n",
    "        pix = page.get_pixmap(dpi=dpi)\n",
    "        \n",
    "        # Cria o caminho completo para a imagem\n",
    "        output_path = os.path.join(output_dir, f\"paginaTeste_{page_num + 1}.png\")\n",
    "        pix.save(output_path)\n",
    "        image_paths.append(output_path)\n",
    "        print(f\"Página {page_num + 1} salva como {output_path}\")\n",
    "    \n",
    "    pdf_document.close()\n",
    "    return image_paths\n",
    "\n",
    "def extract_text_from_image(image_path, dest_dir_images):\n",
    "    \"\"\"Extrai texto de uma imagem e salva a imagem com bounding boxes.\"\"\"\n",
    "    img = cv2.imread(image_path)\n",
    "    text_data = reader.readtext(img)\n",
    "    extracted_text = \"\"\n",
    "\n",
    "    for bbox, text, score in text_data:\n",
    "        if score > threshold:\n",
    "            extracted_text += f\"{text}\\n\"\n",
    "            # Desenha a bounding box e o texto na imagem\n",
    "            cv2.rectangle(img, tuple(map(int, bbox[0])), tuple(map(int, bbox[2])), (0, 255, 0), 2)\n",
    "            cv2.putText(img, text, tuple(map(int, bbox[0])), cv2.FONT_HERSHEY_COMPLEX, 0.65, (255, 0, 0), 2)\n",
    "\n",
    "    # Salva a imagem com as anotações\n",
    "    annotated_image_path = os.path.join(dest_dir_images, os.path.basename(image_path))\n",
    "    cv2.imwrite(annotated_image_path, img)\n",
    "    print(f\"Imagem processada salva em: {annotated_image_path}\")\n",
    "\n",
    "    return extracted_text.strip()\n",
    "\n",
    "# Inserir caminho completo do PDF\n",
    "pdf_path = 'C:/Users/Lucas Silva/Documents/leitura/aler/Purchase Order.pdf'\n",
    "\n",
    "# Diretório de saída\n",
    "output_dir = os.path.dirname(pdf_path)  # Usa o mesmo diretório do PDF\n",
    "dest_dir_images = os.path.join(output_dir, 'processed_images')\n",
    "os.makedirs(dest_dir_images, exist_ok=True)  # Cria o diretório se não existir\n",
    "\n",
    "# Pipeline\n",
    "print(\"Convertendo PDF em imagens...\")\n",
    "image_paths = convert_pdf_to_images(pdf_path, output_dir)\n",
    "\n",
    "print(\"\\nExtraindo texto das imagens...\")\n",
    "all_extracted_text = \"\"\n",
    "for image_path in image_paths:\n",
    "    extracted_text = extract_text_from_image(image_path, dest_dir_images)\n",
    "    all_extracted_text += f\"{extracted_text}\\n\\n\"\n",
    "\n",
    "# Resultado Final\n",
    "print(\"\\nTexto extraído de todas as páginas:\")\n",
    "print(all_extracted_text)\n"
   ]
  },
  {
   "cell_type": "code",
   "execution_count": null,
   "id": "7e35a90e",
   "metadata": {},
   "outputs": [],
   "source": []
  }
 ],
 "metadata": {
  "kernelspec": {
   "display_name": "Python 3 (ipykernel)",
   "language": "python",
   "name": "python3"
  },
  "language_info": {
   "codemirror_mode": {
    "name": "ipython",
    "version": 3
   },
   "file_extension": ".py",
   "mimetype": "text/x-python",
   "name": "python",
   "nbconvert_exporter": "python",
   "pygments_lexer": "ipython3",
   "version": "3.9.12"
  }
 },
 "nbformat": 4,
 "nbformat_minor": 5
}
